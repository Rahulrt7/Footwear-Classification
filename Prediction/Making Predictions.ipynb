{
 "cells": [
  {
   "cell_type": "code",
   "execution_count": 22,
   "metadata": {
    "collapsed": false,
    "deletable": true,
    "editable": true
   },
   "outputs": [],
   "source": [
    "# command to set matplotlib images to be displayed in jupyter notebook itself\n",
    "%matplotlib inline\n",
    "\n",
    "import numpy as np\n",
    "import cPickle\n",
    "import os\n",
    "import urllib2\n",
    "import csv\n",
    "import cv2\n",
    "\n",
    "from matplotlib.pyplot import imshow\n",
    "from PIL import Image\n",
    "from sklearn.decomposition import PCA\n",
    "\n",
    "from keras.models import Sequential\n",
    "from keras.layers.core import Flatten, Dense, Dropout\n",
    "from keras.layers.convolutional import Convolution2D, MaxPooling2D, ZeroPadding2D\n",
    "from keras.optimizers import SGD\n",
    "from keras.preprocessing import image\n",
    "from keras.applications.vgg16 import preprocess_input\n",
    "from keras import optimizers"
   ]
  },
  {
   "cell_type": "code",
   "execution_count": 23,
   "metadata": {
    "collapsed": false,
    "deletable": true,
    "editable": true
   },
   "outputs": [],
   "source": [
    "# dictionaries to fetch labels from their integer index\n",
    "label_dict_type = {24: 'Synthetic', 3: 'Canvas',27:'Velvet',7: 'Fabric', \n",
    "              6: 'EVA',18: 'Rubber',12: 'Loafers',22: 'Sneakers',14: 'Napa', \n",
    "              9: 'Flats',1:  'Bellies',25: 'Synthetic Leather',16: 'PU', \n",
    "              17: 'PVC',19: 'Running',13: 'Mesh',21: 'Slippers',20: 'Sandals', \n",
    "              10: 'Formal',26: 'TPC',23: 'Suede',8: 'Faux Leather', \n",
    "              28: 'Wedges',15: 'Phylon', 4: 'Canvas Shoes',2: 'Boots',\n",
    "              11: 'Heels',5: 'Casual'}\n",
    "\n",
    "label_dict_color = {1: 'Beige', 2: 'Black', 3: 'Blue', 4: 'Brown', 5: 'Copper', 6: 'Cream', 7: 'Golden', \n",
    "                    8: 'Green', 9: 'Grey', 10: 'Maroon', 11: 'Multi', 12: 'Orange', 13: 'Peach', 14: 'Pink', \n",
    "                    15: 'Purple', 16: 'Red', 17: 'Silver', 18: 'Tan', 19: 'Violet', 20: 'White', 21: 'Yellow'}"
   ]
  },
  {
   "cell_type": "code",
   "execution_count": 25,
   "metadata": {
    "collapsed": true,
    "deletable": true,
    "editable": true
   },
   "outputs": [],
   "source": [
    "# Building the structure of VGGNet(with 16 layers)\n",
    "def VGG_16(weights_path=None):\n",
    "    model = Sequential()\n",
    "    model.add(ZeroPadding2D((1,1),input_shape=(3,224,224)))\n",
    "    model.add(Convolution2D(64, 3, 3, activation='relu'))\n",
    "    model.add(ZeroPadding2D((1,1)))\n",
    "    model.add(Convolution2D(64, 3, 3, activation='relu'))\n",
    "    model.add(MaxPooling2D((2,2), strides=(2,2), dim_ordering=\"th\"))\n",
    "\n",
    "    model.add(ZeroPadding2D((1,1)))\n",
    "    model.add(Convolution2D(128, 3, 3, activation='relu'))\n",
    "    model.add(ZeroPadding2D((1,1)))\n",
    "    model.add(Convolution2D(128, 3, 3, activation='relu'))\n",
    "    model.add(MaxPooling2D((2,2), strides=(2,2), dim_ordering=\"th\"))\n",
    "\n",
    "    model.add(ZeroPadding2D((1,1)))\n",
    "    model.add(Convolution2D(256, 3, 3, activation='relu'))\n",
    "    model.add(ZeroPadding2D((1,1)))\n",
    "    model.add(Convolution2D(256, 3, 3, activation='relu'))\n",
    "    model.add(ZeroPadding2D((1,1)))\n",
    "    model.add(Convolution2D(256, 3, 3, activation='relu'))\n",
    "    model.add(MaxPooling2D((2,2), strides=(2,2), dim_ordering=\"th\"))\n",
    "\n",
    "    model.add(ZeroPadding2D((1,1)))\n",
    "    model.add(Convolution2D(512, 3, 3, activation='relu'))\n",
    "    model.add(ZeroPadding2D((1,1)))\n",
    "    model.add(Convolution2D(512, 3, 3, activation='relu'))\n",
    "    model.add(ZeroPadding2D((1,1)))\n",
    "    model.add(Convolution2D(512, 3, 3, activation='relu'))\n",
    "    model.add(MaxPooling2D((2,2), strides=(2,2), dim_ordering=\"th\"))\n",
    "\n",
    "    model.add(ZeroPadding2D((1,1)))\n",
    "    model.add(Convolution2D(512, 3, 3, activation='relu'))\n",
    "    model.add(ZeroPadding2D((1,1)))\n",
    "    model.add(Convolution2D(512, 3, 3, activation='relu'))\n",
    "    model.add(ZeroPadding2D((1,1)))\n",
    "    model.add(Convolution2D(512, 3, 3, activation='relu'))\n",
    "    model.add(MaxPooling2D((2,2), strides=(2,2), dim_ordering=\"th\"))\n",
    "\n",
    "    model.add(Flatten())\n",
    "    model.add(Dense(4096, activation='relu'))\n",
    "    model.add(Dropout(0.5))\n",
    "    model.add(Dense(4096, activation='relu'))\n",
    "    model.add(Dropout(0.5))\n",
    "    model.add(Dense(11, activation='softmax'))\n",
    "    \n",
    "    if weights_path:\n",
    "        model.load_weights(weights_path, by_name=True)\n",
    "        \n",
    "    #Remove the last two layers to get the 4096D activations\n",
    "    model.layers.pop()\n",
    "    model.layers.pop()\n",
    "    model.outputs = [model.layers[-1].output]\n",
    "    model.layers[-1].outbound_nodes = []\n",
    "\n",
    "    return model\n",
    "    "
   ]
  },
  {
   "cell_type": "code",
   "execution_count": 26,
   "metadata": {
    "collapsed": false,
    "deletable": true,
    "editable": true
   },
   "outputs": [],
   "source": [
    "# Loading the pretrained weights for VGGNet\n",
    "model = VGG_16('vgg16_weights_tf_dim_ordering_tf_kernels.h5')\n",
    "\n",
    "# Compiling the model with stochastic gradient descent optimizer\n",
    "sgd = SGD(lr=0.1, decay=1e-6, momentum=0.9, nesterov=True)\n",
    "# 'sparse_categorical_crossentropy' loss can be used as alternative to one hot vectors if number of classes are large\n",
    "model.compile(optimizer=optimizers.SGD(lr=1e-4, momentum=0.9), \n",
    "              loss='sparse_categorical_crossentropy', metrics=['accuracy'])"
   ]
  },
  {
   "cell_type": "code",
   "execution_count": 27,
   "metadata": {
    "collapsed": false,
    "deletable": true,
    "editable": true
   },
   "outputs": [],
   "source": [
    "# Fitting pca on type data\n",
    "train_images_type = np.load('type_image_arr_4096.npy')\n",
    "pca_type = PCA(n_components=1024, whiten=True).fit(train_images_type)\n",
    "\n",
    "# Fitting pca on color data\n",
    "train_images_color = np.load('color_image_arr_4096.npy')\n",
    "pca_color = PCA(n_components=512, whiten=True).fit(train_images_color)"
   ]
  },
  {
   "cell_type": "code",
   "execution_count": 28,
   "metadata": {
    "collapsed": true,
    "deletable": true,
    "editable": true
   },
   "outputs": [],
   "source": [
    "# load classifiers\n",
    "with open('type_classifier_1024.pkl', 'rb') as fid:\n",
    "    type_classifier = cPickle.load(fid)\n",
    "    \n",
    "with open('color_classifier_512.pkl', 'rb') as fid:\n",
    "    color_classifier = cPickle.load(fid)"
   ]
  },
  {
   "cell_type": "code",
   "execution_count": 35,
   "metadata": {
    "collapsed": false,
    "deletable": true,
    "editable": true
   },
   "outputs": [],
   "source": [
    "def make_prediction(im_url):\n",
    "    \"\"\"\n",
    "    This function performs following actions:\n",
    "    - Fetch the image from url\n",
    "    - Convert image vector to dimensions suitable for VGGNet input\n",
    "    - Obtain (,4096) dimension vector and apply pca to get arrays for type(1024 dimension) and color(512 dimension)\n",
    "    - Predict [type] and [color] of the image using trained SVM_classifiers\n",
    "    Input: (image_url)\n",
    "    \"\"\"\n",
    "    # try fetching the image from url, print error message in case of exception\n",
    "    try:\n",
    "        img = Image.open(urllib2.urlopen(im_url))\n",
    "        # Displaying image\n",
    "        imshow(img)\n",
    "        img = np.array(img)\n",
    "    except Exception as e:\n",
    "        print 'Error loading image from url'\n",
    "    # read image as a vector and adjust its dimension according to the input dimensions of VGGNet\n",
    "    img = cv2.resize(img, (224,224))\n",
    "    img = img.transpose((2,0,1))\n",
    "    img = np.expand_dims(img, axis=0)\n",
    "    x_4096 = model.predict(img)\n",
    "    # applying pca 4096=>1024\n",
    "    x_type = pca_type.transform(x_4096)\n",
    "    x_color = pca_color.transform(x_4096)\n",
    "    pred_type = np.ndarray.tolist(type_classifier.predict(x_type))\n",
    "    pred_color = np.ndarray.tolist(color_classifier.predict(x_color))\n",
    "    print \"Type :: %s\" % label_dict_type[pred_type[0]]\n",
    "    print \"Color :: %s\" % label_dict_color[pred_color[0]]"
   ]
  },
  {
   "cell_type": "code",
   "execution_count": 38,
   "metadata": {
    "collapsed": false,
    "deletable": true,
    "editable": true
   },
   "outputs": [
    {
     "name": "stdout",
     "output_type": "stream",
     "text": [
      "Type :: Boots\n",
      "Color :: Black\n"
     ]
    },
    {
     "data": {
      "image/png": "[encoded data removed]",
      "text/plain": [
       "<matplotlib.figure.Figure at 0x7fcda65f5290>"
      ]
     },
     "metadata": {},
     "output_type": "display_data"
    }
   ],
   "source": [
    "if __name__ == '__main__':\n",
    "    make_prediction('https://assetscdn.paytm.com/images/catalog/product/F/FO/FOOHANNA-BLACK-NAMA1059605C94CD7F/2.jpg')"
   ]
  },
  {
   "cell_type": "code",
   "execution_count": null,
   "metadata": {
    "collapsed": true,
    "deletable": true,
    "editable": true
   },
   "outputs": [],
   "source": []
  },
  {
   "cell_type": "code",
   "execution_count": null,
   "metadata": {
    "collapsed": true,
    "deletable": true,
    "editable": true
   },
   "outputs": [],
   "source": []
  }
 ],
 "metadata": {
  "kernelspec": {
   "display_name": "Python 2",
   "language": "python",
   "name": "python2"
  },
  "language_info": {
   "codemirror_mode": {
    "name": "ipython",
    "version": 2
   },
   "file_extension": ".py",
   "mimetype": "text/x-python",
   "name": "python",
   "nbconvert_exporter": "python",
   "pygments_lexer": "ipython2",
   "version": "2.7.13"
  }
 },
 "nbformat": 4,
 "nbformat_minor": 2
}
