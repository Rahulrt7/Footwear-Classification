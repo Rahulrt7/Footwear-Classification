{
 "cells": [
  {
   "cell_type": "code",
   "execution_count": 1,
   "metadata": {
    "collapsed": true,
    "deletable": true,
    "editable": true
   },
   "outputs": [],
   "source": [
    "from PIL import Image\n",
    "\n",
    "import os\n",
    "import urllib2\n",
    "import csv\n",
    "import numpy as np"
   ]
  },
  {
   "cell_type": "code",
   "execution_count": 2,
   "metadata": {
    "collapsed": true,
    "deletable": true,
    "editable": true
   },
   "outputs": [],
   "source": [
    "# number of valid images\n",
    "total_items = 5898"
   ]
  },
  {
   "cell_type": "code",
   "execution_count": 3,
   "metadata": {
    "collapsed": false,
    "deletable": true,
    "editable": true
   },
   "outputs": [],
   "source": [
    "# dictionaries storing numeric values of labels\n",
    "color_index_dict = dict()\n",
    "\n",
    "# lists to store anomalies in data (TYPE LIST CAN LATER BE USED AS TEST DATA)\n",
    "anom_image = list()\n",
    "anom_color = list()\n",
    "\n",
    "# arrays to save labels as integers as comptuers are better with numeric values\n",
    "color_labels = np.ndarray((5898,))\n",
    "\n",
    "# index and count to be assigned to each label and image\n",
    "color_index = 0\n",
    "count = 0\n",
    "\n",
    "\"\"\"\n",
    "Either both image and type will be saved or none of them.\n",
    "\"\"\"\n",
    "with open('Footwear Dataset - Sheet1.csv', 'rb') as csvfile:\n",
    "    reader = csv.DictReader(csvfile)\n",
    "    for row in reader:\n",
    "        im_url = row['thumbnail']\n",
    "        im_color = row['Color']\n",
    "    \n",
    "        # separating images with wrong url (RARE)\n",
    "        if im_url == '' or type(im_url) != str or not im_url.startswith('http'):\n",
    "            anom_image.append(count)\n",
    "            continue\n",
    "        \n",
    "        # separating types with no or wrong labels (FREQUENT)\n",
    "        if im_color == '' or type(im_color) != str:\n",
    "            anom_type.append(count)\n",
    "            continue\n",
    "\n",
    "        try:\n",
    "            im = Image.open(urllib2.urlopen(im_url))\n",
    "        except Exception as e:\n",
    "            anom_image.append(count)\n",
    "            continue\n",
    "           \n",
    "        if im_color not in color_index_dict:\n",
    "            # if label is not already present in the dictionary\n",
    "            # save label to dictionary and to labels array\n",
    "            color_index_dict[im_color] = color_index\n",
    "            color_labels[count] = color_index\n",
    "            color_index += 1\n",
    "        else:\n",
    "            # else extract the index of label and save to array\n",
    "            ind = color_index_dict[im_color]\n",
    "            color_labels[count] = ind\n",
    "        \n",
    "        # saving images to data folders\n",
    "        path = './data/%s' % im_color\n",
    "        if not os.path.exists(path):\n",
    "            os.makedirs(path)\n",
    "        im.save(path + '/img%d.png' % count)\n",
    "\n",
    "        count += 1\n",
    "        if count == total_items : break"
   ]
  },
  {
   "cell_type": "code",
   "execution_count": 5,
   "metadata": {
    "collapsed": true,
    "deletable": true,
    "editable": true
   },
   "outputs": [],
   "source": [
    "# convert lists to numpy arrays to save them on the disk\n",
    "anom_image = np.asarray(anom_image)\n",
    "anom_color = np.asarray(anom_color)"
   ]
  },
  {
   "cell_type": "markdown",
   "metadata": {
    "deletable": true,
    "editable": true
   },
   "source": [
    "### Only 5898 images were found with correct labels"
   ]
  },
  {
   "cell_type": "code",
   "execution_count": 6,
   "metadata": {
    "collapsed": false,
    "deletable": true,
    "editable": true
   },
   "outputs": [],
   "source": [
    "# save all the computed arrays\n",
    "np.save('bad_image_url.npy', anom_image)\n",
    "np.save('bad_label.npy', anom_color)\n",
    "np.save('type_index_dict.npy', color_index_dict)\n",
    "np.save('final_labels.npy', color_labels)"
   ]
  },
  {
   "cell_type": "code",
   "execution_count": null,
   "metadata": {
    "collapsed": true,
    "deletable": true,
    "editable": true
   },
   "outputs": [],
   "source": []
  }
 ],
 "metadata": {
  "kernelspec": {
   "display_name": "Python 2",
   "language": "python",
   "name": "python2"
  },
  "language_info": {
   "codemirror_mode": {
    "name": "ipython",
    "version": 2
   },
   "file_extension": ".py",
   "mimetype": "text/x-python",
   "name": "python",
   "nbconvert_exporter": "python",
   "pygments_lexer": "ipython2",
   "version": "2.7.13"
  }
 },
 "nbformat": 4,
 "nbformat_minor": 2
}
