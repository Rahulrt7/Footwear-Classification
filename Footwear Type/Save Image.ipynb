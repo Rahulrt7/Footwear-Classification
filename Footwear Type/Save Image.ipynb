{
 "cells": [
  {
   "cell_type": "code",
   "execution_count": 1,
   "metadata": {
    "collapsed": true,
    "deletable": true,
    "editable": true
   },
   "outputs": [],
   "source": [
    "from PIL import Image\n",
    "\n",
    "import os\n",
    "import urllib2\n",
    "import csv\n",
    "import numpy as np"
   ]
  },
  {
   "cell_type": "code",
   "execution_count": 2,
   "metadata": {
    "collapsed": true,
    "deletable": true,
    "editable": true
   },
   "outputs": [],
   "source": [
    "# total number of image ids\n",
    "total_items = 15000"
   ]
  },
  {
   "cell_type": "code",
   "execution_count": 3,
   "metadata": {
    "collapsed": false,
    "deletable": true,
    "editable": true
   },
   "outputs": [],
   "source": [
    "# dictionaries storing numeric values of labels\n",
    "type_index_dict = dict()\n",
    "\n",
    "# lists to store anomalies in data(entries for which image url or label is not available)\n",
    "anom_image = list()\n",
    "anom_type = list()\n",
    "\n",
    "# arrays to save labels as integers as comptuers are better with numeric values\n",
    "type_labels = np.zeros((15000,), dtype=int)\n",
    "\n",
    "# index and count to be assigned to each label and image\n",
    "type_index = 0\n",
    "count = 0\n",
    "\n",
    "\"\"\"\n",
    "Either both image and type will be saved or none of them.\n",
    "\"\"\"\n",
    "with open('Footwear Dataset - Sheet1.csv', 'rb') as csvfile:\n",
    "    reader = csv.DictReader(csvfile)\n",
    "    for row in reader:\n",
    "        im_url = row['thumbnail']\n",
    "        im_type = row['Type']\n",
    "        \n",
    "        # separating images with wrong url (RARE)\n",
    "        if im_url == '' or type(im_url) != str or not im_url.startswith('http'):\n",
    "            anom_image.append(count)\n",
    "            continue\n",
    "        \n",
    "        # separating types with no or wrong labels (FREQUENT)\n",
    "        if im_type == '' or type(im_type) != str:\n",
    "            anom_type.append(count)\n",
    "            continue\n",
    "        \n",
    "        try:\n",
    "            # try to load the image from url, if error occurs add index to anomaly and continue\n",
    "            im = Image.open(urllib2.urlopen(im_url))\n",
    "        except Exception as e:\n",
    "            anom_image.append(count)\n",
    "            continue\n",
    "            \n",
    "        # saving type_index of type label to nparray\n",
    "        if im_type not in type_index_dict:\n",
    "            # if label is not already present in the dictionary\n",
    "            # save label to dictionary and to labels array\n",
    "            type_index_dict[im_type] = type_index\n",
    "            type_labels[count] = type_index\n",
    "            type_index += 1\n",
    "        else:\n",
    "            # else extract the index of label and save to array\n",
    "            ind = type_index_dict[im_type]\n",
    "            type_labels[count] = ind\n",
    "        \n",
    "        # saving images to data folders\n",
    "        path = './data/%s' % im_type\n",
    "        if not os.path.exists(path):\n",
    "            os.makedirs(path)\n",
    "        im.save(path + '/img%d.png' % count)\n",
    "        count += 1\n",
    "        # if count reaches boundary break(avoid overflow)\n",
    "        if count == total_items : break\n",
    "        \n",
    "    "
   ]
  },
  {
   "cell_type": "code",
   "execution_count": 5,
   "metadata": {
    "collapsed": true,
    "deletable": true,
    "editable": true
   },
   "outputs": [],
   "source": [
    "# convert lists to numpy arrays to save them on the disk\n",
    "anom_image = np.asarray(anom_image)\n",
    "anom_type = np.asarray(anom_type)"
   ]
  },
  {
   "cell_type": "markdown",
   "metadata": {
    "deletable": true,
    "editable": true
   },
   "source": [
    "### Saving only final labels"
   ]
  },
  {
   "cell_type": "code",
   "execution_count": 32,
   "metadata": {
    "collapsed": true,
    "deletable": true,
    "editable": true
   },
   "outputs": [],
   "source": [
    "# only 9400 images have valid labels so size of final labels can be decreased\n",
    "final_labels = np.zeros((9400,))\n",
    "for i in range(9400):\n",
    "    final_labels[i] = type_labels[i]"
   ]
  },
  {
   "cell_type": "markdown",
   "metadata": {
    "deletable": true,
    "editable": true
   },
   "source": [
    "### Only 9338 images were found with correct labels"
   ]
  },
  {
   "cell_type": "code",
   "execution_count": 33,
   "metadata": {
    "collapsed": true,
    "deletable": true,
    "editable": true
   },
   "outputs": [],
   "source": [
    "# save all the computed arrays\n",
    "np.save('bad_image_url.npy', anom_image)\n",
    "np.save('bad_label.npy', anom_type)\n",
    "np.save('type_index_dict.npy', type_index_dict)\n",
    "np.save('final_labels.npy', final_labels)"
   ]
  },
  {
   "cell_type": "code",
   "execution_count": null,
   "metadata": {
    "collapsed": true,
    "deletable": true,
    "editable": true
   },
   "outputs": [],
   "source": []
  }
 ],
 "metadata": {
  "kernelspec": {
   "display_name": "Python 2",
   "language": "python",
   "name": "python2"
  },
  "language_info": {
   "codemirror_mode": {
    "name": "ipython",
    "version": 2
   },
   "file_extension": ".py",
   "mimetype": "text/x-python",
   "name": "python",
   "nbconvert_exporter": "python",
   "pygments_lexer": "ipython2",
   "version": "2.7.13"
  }
 },
 "nbformat": 4,
 "nbformat_minor": 2
}
